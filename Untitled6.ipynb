{
 "cells": [
  {
   "cell_type": "code",
   "execution_count": 1,
   "metadata": {},
   "outputs": [
    {
     "name": "stdout",
     "output_type": "stream",
     "text": [
      "12\n",
      "22\n",
      "32\n",
      "42\n",
      "52\n"
     ]
    }
   ],
   "source": [
    "l=[10,20,30,40,50]\n",
    "for i in l:\n",
    "    s=i+2\n",
    "    print(s)"
   ]
  },
  {
   "cell_type": "code",
   "execution_count": 1,
   "metadata": {},
   "outputs": [
    {
     "name": "stdout",
     "output_type": "stream",
     "text": [
      "enter a number5\n",
      "54321\n",
      "\n",
      "4321\n",
      "\n",
      "321\n",
      "\n",
      "21\n",
      "\n",
      "1\n",
      "\n"
     ]
    }
   ],
   "source": [
    "n=int(input(\"enter a number\"))\n",
    "for i in range(n,0,-1):\n",
    "    for j in range (i,0,-1):\n",
    "        print(j,end=\"\")\n",
    "    print(\"\\n\")"
   ]
  },
  {
   "cell_type": "code",
   "execution_count": 2,
   "metadata": {},
   "outputs": [
    {
     "name": "stdout",
     "output_type": "stream",
     "text": [
      "enter a number10\n",
      "0\n",
      "1\n",
      "1\n",
      "2\n",
      "3\n",
      "5\n",
      "8\n",
      "13\n",
      "21\n",
      "34\n"
     ]
    }
   ],
   "source": [
    "n=int(input(\"enter a number\"))\n",
    "a=0\n",
    "b=1\n",
    "print(a)\n",
    "print(b)\n",
    "for i in range (2,n):\n",
    "    c=a+b\n",
    "    a=b\n",
    "    b=c\n",
    "    print(c)"
   ]
  },
  {
   "cell_type": "code",
   "execution_count": 3,
   "metadata": {},
   "outputs": [
    {
     "name": "stdout",
     "output_type": "stream",
     "text": [
      "not amstrong\n"
     ]
    }
   ],
   "source": [
    "def fun(n):\n",
    "    t=n\n",
    "    sum=0\n",
    "    while (n!=0):\n",
    "        x=n%10\n",
    "        c=x*x*x\n",
    "        sum=sum+c\n",
    "        n=n//10\n",
    "    if (t==sum):\n",
    "        print(\"amstrong\")\n",
    "    else:\n",
    "        print(\"not amstrong\")\n",
    "fun(154)"
   ]
  },
  {
   "cell_type": "code",
   "execution_count": 4,
   "metadata": {},
   "outputs": [
    {
     "name": "stdout",
     "output_type": "stream",
     "text": [
      "9 x 1 = 9\n",
      "9 x 2 = 18\n",
      "9 x 3 = 27\n",
      "9 x 4 = 36\n",
      "9 x 5 = 45\n",
      "9 x 6 = 54\n",
      "9 x 7 = 63\n",
      "9 x 8 = 72\n",
      "9 x 9 = 81\n",
      "9 x 10 = 90\n"
     ]
    }
   ],
   "source": [
    "n=9\n",
    "for i in range(1,11):\n",
    "    print(n,'x',i ,'=', n*i)\n",
    "\n"
   ]
  },
  {
   "cell_type": "code",
   "execution_count": 5,
   "metadata": {},
   "outputs": [
    {
     "name": "stdout",
     "output_type": "stream",
     "text": [
      "negative\n"
     ]
    }
   ],
   "source": [
    "a=0\n",
    "if a<=0:\n",
    "    print(\"negative\")\n",
    "else :\n",
    "    print(\"positive\")"
   ]
  },
  {
   "cell_type": "code",
   "execution_count": 8,
   "metadata": {},
   "outputs": [
    {
     "name": "stdout",
     "output_type": "stream",
     "text": [
      "52\n"
     ]
    }
   ],
   "source": [
    "days=18999\n",
    "age=days//365\n",
    "print(age)"
   ]
  },
  {
   "cell_type": "code",
   "execution_count": 9,
   "metadata": {},
   "outputs": [
    {
     "name": "stdout",
     "output_type": "stream",
     "text": [
      "0.8939966636005579\n",
      "0.5253219888177297\n",
      "3.141592653589793\n"
     ]
    }
   ],
   "source": [
    "import math\n",
    "print(math.sin (90))\n",
    "print(math.cos(45))\n",
    "print(math.pi)"
   ]
  },
  {
   "cell_type": "code",
   "execution_count": 11,
   "metadata": {},
   "outputs": [
    {
     "name": "stdout",
     "output_type": "stream",
     "text": [
      "1.sum\n",
      "2.sub\n",
      "3.mul\n",
      "4.div\n",
      "enter a number b/w 1 to 4:1\n",
      "enter 1st number12\n",
      "enter  2nd number12\n",
      "12 + 12 24\n"
     ]
    }
   ],
   "source": [
    "def cal(x,y):\n",
    "    sum=x+y\n",
    "    sub=x-y\n",
    "    mul=x*y\n",
    "    div=x/y\n",
    "print(\"1.sum\")\n",
    "print(\"2.sub\")\n",
    "print(\"3.mul\")\n",
    "print(\"4.div\")\n",
    "choice=int(input(\"enter a number b/w 1 to 4:\"))\n",
    "a=int(input(\"enter 1st number\"))\n",
    "b=int(input(\"enter  2nd number\"))\n",
    "if choice == 1:\n",
    "    print(a,'+',b, a+b)\n",
    "elif (choice == 2):\n",
    "    print(a,'-',b, a-b)\n",
    "elif (choice == 3):\n",
    "    print(a,'*',b,  a*b)\n",
    "elif (choice == 4):\n",
    "    print(a,'/',b,  a/b)\n",
    "else:\n",
    "    print(\"invalid\")\n",
    "cal(2,5)"
   ]
  }
 ],
 "metadata": {
  "kernelspec": {
   "display_name": "Python 3",
   "language": "python",
   "name": "python3"
  },
  "language_info": {
   "codemirror_mode": {
    "name": "ipython",
    "version": 3
   },
   "file_extension": ".py",
   "mimetype": "text/x-python",
   "name": "python",
   "nbconvert_exporter": "python",
   "pygments_lexer": "ipython3",
   "version": "3.8.3"
  }
 },
 "nbformat": 4,
 "nbformat_minor": 4
}
