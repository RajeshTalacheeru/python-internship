{
 "cells": [
  {
   "cell_type": "code",
   "execution_count": 1,
   "metadata": {},
   "outputs": [
    {
     "name": "stdout",
     "output_type": "stream",
     "text": [
      "Enter: 2\n",
      "Success\n",
      "['ab']\n",
      "25\n",
      "(1, 3)\n",
      "['ABCD']\n"
     ]
    }
   ],
   "source": [
    "import re\n",
    "text = input(\"Enter: \")\n",
    "result = re.sub(\"[A-Za-z0-9]\", '', text)\n",
    "if len(result) == 0:\n",
    "    print(\"Success\")\n",
    "else:\n",
    "    print(\"Failure\")\n",
    "\n",
    "\n",
    "#2.\n",
    "import re\n",
    "a=\"abcdefghijkABCDlmnopqrstw\"\n",
    "x=re.findall(\"ab\",a)\n",
    "print(x)\n",
    "\n",
    "\n",
    "#3.\n",
    "x=re.search(\"w\",a)\n",
    "print(x.end())\n",
    "\n",
    "\n",
    "#4.\n",
    "x=re.search(\"bc\",a)\n",
    "print(x.span())\n",
    "\n",
    "\n",
    "#5.\n",
    "x=re.findall(\"ABCD\",a)\n",
    "print(x)\n"
   ]
  },
  {
   "cell_type": "code",
   "execution_count": null,
   "metadata": {},
   "outputs": [],
   "source": []
  }
 ],
 "metadata": {
  "kernelspec": {
   "display_name": "Python 3",
   "language": "python",
   "name": "python3"
  },
  "language_info": {
   "codemirror_mode": {
    "name": "ipython",
    "version": 3
   },
   "file_extension": ".py",
   "mimetype": "text/x-python",
   "name": "python",
   "nbconvert_exporter": "python",
   "pygments_lexer": "ipython3",
   "version": "3.8.3"
  }
 },
 "nbformat": 4,
 "nbformat_minor": 4
}
