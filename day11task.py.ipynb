{
 "cells": [
  {
   "cell_type": "code",
   "execution_count": 1,
   "metadata": {},
   "outputs": [
    {
     "name": "stdout",
     "output_type": "stream",
     "text": [
      "[(1, 6), (2, 7), (3, 8), (4, 9)]\n",
      "[(12, 1), (23, 2), (34, 3), (45, 4), (67, 5), (44, 6), (6, 7), (7, 8)]\n",
      "[1, 3, 11, 12, 21, 43, 66, 99]\n",
      "[45, 33, 45, 11, 1, 9, 55]\n"
     ]
    }
   ],
   "source": [
    "#1.\n",
    "l1=[1,2,3,4,5]\n",
    "l2=[6,7,8,9]\n",
    "x=list(zip(l1,l2))\n",
    "print(x)\n",
    "\n",
    "\n",
    "#2.\n",
    "l=[12,23,34,45,67,44,6,7,77]\n",
    "my_list=[*range(1,9,1)]\n",
    "x=list(zip(l,my_list))\n",
    "print(x)\n",
    "\n",
    "    \n",
    "    \n",
    "#3.\n",
    "l=[12,1,3,66,43,99,11,21]\n",
    "print(sorted(l))\n",
    "\n",
    "\n",
    "#4.\n",
    "list1=[12,45,78,33,45,11,1,9,55]\n",
    "a=lambda x:x%2==1\n",
    "list2=list(filter(a,list1))\n",
    "print(list2)\n"
   ]
  },
  {
   "cell_type": "code",
   "execution_count": null,
   "metadata": {},
   "outputs": [],
   "source": []
  }
 ],
 "metadata": {
  "kernelspec": {
   "display_name": "Python 3",
   "language": "python",
   "name": "python3"
  },
  "language_info": {
   "codemirror_mode": {
    "name": "ipython",
    "version": 3
   },
   "file_extension": ".py",
   "mimetype": "text/x-python",
   "name": "python",
   "nbconvert_exporter": "python",
   "pygments_lexer": "ipython3",
   "version": "3.8.3"
  }
 },
 "nbformat": 4,
 "nbformat_minor": 4
}
