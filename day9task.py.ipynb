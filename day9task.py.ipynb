{
 "cells": [
  {
   "cell_type": "code",
   "execution_count": 2,
   "metadata": {},
   "outputs": [
    {
     "name": "stdout",
     "output_type": "stream",
     "text": [
      "6\n",
      "[0, 1, 1, 2, 3, 5, 8, 13, 21, 34]\n",
      "10\n",
      "20\n",
      "30\n",
      "40\n",
      "50\n",
      "[54, 27]\n",
      "5\n"
     ]
    }
   ],
   "source": [
    "multiply =lambda a,b:a*b\n",
    "print(multiply(2,3))\n",
    "\n",
    "#\n",
    "from functools import reduce\n",
    "fib_numbers=lambda y:reduce(lambda x,_:x + [x[-1]+x[-2]],range(y - 2),[0,1])\n",
    "print(fib_numbers(10))\n",
    "\n",
    "\n",
    "\n",
    "\n",
    "\n",
    "\n",
    "#3.\n",
    "a=10\n",
    "b=[1,2,3,4,5]\n",
    "for i in b:\n",
    "    print(i*a)\n",
    "\n",
    "\n",
    "#4\n",
    "a=[12,34,54,78,27]\n",
    "b=[]\n",
    "for i in a:\n",
    "    if i%9==0:\n",
    "        b.append(i)\n",
    "print(b)\n",
    "\n",
    "\n",
    "#5\n",
    "a=[12,45,66,34,99,76,12]\n",
    "even_count =0\n",
    "odd_count=0\n",
    "for i in a:\n",
    "    if i%2==0:\n",
    "        even_count+=1\n",
    "    else:\n",
    "        odd_count+=1\n",
    "print(even_count)\n",
    "\n"
   ]
  },
  {
   "cell_type": "code",
   "execution_count": null,
   "metadata": {},
   "outputs": [],
   "source": []
  }
 ],
 "metadata": {
  "kernelspec": {
   "display_name": "Python 3",
   "language": "python",
   "name": "python3"
  },
  "language_info": {
   "codemirror_mode": {
    "name": "ipython",
    "version": 3
   },
   "file_extension": ".py",
   "mimetype": "text/x-python",
   "name": "python",
   "nbconvert_exporter": "python",
   "pygments_lexer": "ipython3",
   "version": "3.8.3"
  }
 },
 "nbformat": 4,
 "nbformat_minor": 4
}
