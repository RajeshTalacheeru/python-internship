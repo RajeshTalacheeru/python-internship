{
 "cells": [
  {
   "cell_type": "code",
   "execution_count": 5,
   "metadata": {},
   "outputs": [
    {
     "name": "stdout",
     "output_type": "stream",
     "text": [
      "[11, 12, 13, 34, 45, 67, 89]\n"
     ]
    }
   ],
   "source": [
    "import pandas as pd \n",
    "l=[12,13,45,67,34,89,11]\n",
    "l.sort()\n",
    "print(l)"
   ]
  },
  {
   "cell_type": "code",
   "execution_count": 4,
   "metadata": {
    "scrolled": true
   },
   "outputs": [
    {
     "data": {
      "text/plain": [
       "['C:\\\\Users\\\\Dell',\n",
       " 'F:\\\\Users\\\\Dell\\\\anaconda3\\\\python38.zip',\n",
       " 'F:\\\\Users\\\\Dell\\\\anaconda3\\\\DLLs',\n",
       " 'F:\\\\Users\\\\Dell\\\\anaconda3\\\\lib',\n",
       " 'F:\\\\Users\\\\Dell\\\\anaconda3',\n",
       " '',\n",
       " 'F:\\\\Users\\\\Dell\\\\anaconda3\\\\lib\\\\site-packages',\n",
       " 'F:\\\\Users\\\\Dell\\\\anaconda3\\\\lib\\\\site-packages\\\\win32',\n",
       " 'F:\\\\Users\\\\Dell\\\\anaconda3\\\\lib\\\\site-packages\\\\win32\\\\lib',\n",
       " 'F:\\\\Users\\\\Dell\\\\anaconda3\\\\lib\\\\site-packages\\\\Pythonwin',\n",
       " 'F:\\\\Users\\\\Dell\\\\anaconda3\\\\lib\\\\site-packages\\\\IPython\\\\extensions',\n",
       " 'C:\\\\Users\\\\Dell\\\\.ipython']"
      ]
     },
     "execution_count": 4,
     "metadata": {},
     "output_type": "execute_result"
    }
   ],
   "source": [
    "import sys\n",
    "sys.path"
   ]
  },
  {
   "cell_type": "code",
   "execution_count": 1,
   "metadata": {},
   "outputs": [
    {
     "name": "stdout",
     "output_type": "stream",
     "text": [
      "35\n"
     ]
    }
   ],
   "source": [
    "import random\n",
    "print(random.randrange(1,100))"
   ]
  },
  {
   "cell_type": "code",
   "execution_count": null,
   "metadata": {},
   "outputs": [],
   "source": []
  }
 ],
 "metadata": {
  "kernelspec": {
   "display_name": "Python 3",
   "language": "python",
   "name": "python3"
  },
  "language_info": {
   "codemirror_mode": {
    "name": "ipython",
    "version": 3
   },
   "file_extension": ".py",
   "mimetype": "text/x-python",
   "name": "python",
   "nbconvert_exporter": "python",
   "pygments_lexer": "ipython3",
   "version": "3.8.3"
  }
 },
 "nbformat": 4,
 "nbformat_minor": 4
}
